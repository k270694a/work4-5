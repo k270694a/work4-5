{
  "nbformat": 4,
  "nbformat_minor": 0,
  "metadata": {
    "colab": {
      "provenance": []
    },
    "kernelspec": {
      "name": "python3",
      "display_name": "Python 3"
    },
    "language_info": {
      "name": "python"
    }
  },
  "cells": [
    {
      "cell_type": "code",
      "execution_count": null,
      "metadata": {
        "colab": {
          "base_uri": "https://localhost:8080/"
        },
        "id": "s97AMoFSZar-",
        "outputId": "11387fbf-05f8-4e8f-ef8f-bd7c1a23486d"
      },
      "outputs": [
        {
          "output_type": "stream",
          "name": "stdout",
          "text": [
            "Возможные команды: p, s, q\n",
            "Введите название команды q\n",
            "Работа завершена\n"
          ]
        }
      ],
      "source": [
        "#нужно помочь секретарю автоматизировать работу. Для этого нужно написать программу, которая будет на основе хранимых данных исполнять пользовательские команды.\n",
        "#​Исходные данные имеют следующую структуру:\n",
        "#1. перечень всех документов\n",
        "#​2. перечень полок, на которых хранятся документы (если документ есть в documents, он обязательно должен быть и в directories)\n",
        "\n",
        "#Общие требования к программе:\n",
        "#​● код должен быть грамотно декомпозирован: каждая функция отвечает за свою конкретную задачу, дублирующиеся функции переиспользуются, а их код не повторяется;\n",
        "#● в коде отсутствуют глобальные переменные, за исключением documents и directories;\n",
        "#● пользовательский ввод обрабатывается в цикле while до тех пор, пока пользователь явно не завершит программу вводом команды «q».\n",
        "\n",
        "# Задаю функции для перебора данных\n",
        "#lambda-функция  берет список numbers, и отфильтровывает все элементы из него, подходящие по заданному условию. При этом фильтрация никак не изменяет изначальный список.\n",
        "# Функция filter() принимает два параметра — функцию и список для обработки. В нашем примере мы также применим функцию list(), чтобы преобразовать объект filter в список.\n",
        "\n",
        "def get_name(docs , number):\n",
        "  documents=list(filter(lambda x:x ['number']== docs , number ))\n",
        "  if documents:\n",
        "    return documents [0] ['name']\n",
        "  else:\n",
        "    return 'Владелец не найден'\n",
        "\n",
        "def get_shelf(dirs,number):\n",
        "  for kye, value in dirs.items():\n",
        "    return kye\n",
        "  return 'Документ не найден'\n",
        "\n",
        "def end(get_name,get_shelf):\n",
        "  for get_name,get_shelf in list():\n",
        "    return 'Работа завершена'\n",
        "\n",
        "  documents = [\n",
        "        {\"type\": \"passport\", \"number\": \"2207 876234\", \"name\": \"Василий Гупкин\"},\n",
        "        {\"type\": \"invoice\", \"number\": \"11-2\", \"name\": \"Геннадий Покемонов\"},\n",
        "        {\"type\": \"insurance\", \"number\": \"10006\", \"name\": \"Аристарх Павлов\"}\n",
        "      ]\n",
        "\n",
        "directories = {\n",
        "        '1': ['2207 876234', '11-2'],\n",
        "        '2': ['10006'],\n",
        "        '3': []\n",
        "      }\n",
        "\n",
        "while True:\n",
        "    print('Возможные команды: p, s, q')\n",
        "    comand = input('Введите название команды ')\n",
        "\n",
        "\n",
        "    if  comand == 'p':\n",
        "        num = input('Введите номер документа ')\n",
        "        print(get_name(documents, num))\n",
        "    elif comand == 'q':\n",
        "        print(\"Работа завершена\")\n",
        "    elif comand == 's':\n",
        "        num = input('Введите номер документа ')\n",
        "        print(get_shelf(directories, num))\n",
        "    else:\n",
        "        print(\"Номер полки введен не верно\")\n",
        "\n",
        "\n",
        "    break\n",
        "\n"
      ]
    }
  ]
}